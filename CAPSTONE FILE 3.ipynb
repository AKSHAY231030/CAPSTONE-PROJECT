{
 "cells": [
  {
   "cell_type": "code",
   "execution_count": 1,
   "id": "771a19cf-6aa4-4c97-a47d-35743464b3d5",
   "metadata": {},
   "outputs": [],
   "source": [
    "import pandas as pd\n",
    "from sklearn.model_selection import train_test_split\n",
    "from sklearn.preprocessing import StandardScaler\n",
    "from sklearn.linear_model import LinearRegression\n",
    "from sklearn.tree import DecisionTreeRegressor\n",
    "from sklearn.ensemble import RandomForestRegressor\n",
    "from sklearn.metrics import mean_squared_error, accuracy_score, classification_report, confusion_matrix\n",
    "from sklearn.model_selection import GridSearchCV\n",
    "from sklearn.pipeline import Pipeline\n",
    "from sklearn.compose import ColumnTransformer\n",
    "from sklearn.impute import SimpleImputer\n",
    "from sklearn.preprocessing import OneHotEncoder"
   ]
  },
  {
   "cell_type": "code",
   "execution_count": null,
   "id": "171fcc60-1029-4d9c-bee6-115c4ec7f042",
   "metadata": {},
   "outputs": [],
   "source": [
    "df = pd.read_csv('dataset.csv')"
   ]
  },
  {
   "cell_type": "code",
   "execution_count": null,
   "id": "ac9e8b7c-9024-4bd6-b61e-fa03bbc32f53",
   "metadata": {},
   "outputs": [],
   "source": [
    "X = df.drop(['buy_total_price', 'carpet_area', 'property_type'], axis=1)\n",
    "y1 = df['buy_total_price']\n",
    "y2 = df['carpet_area']\n",
    "y3 = df['property_type']\n"
   ]
  },
  {
   "cell_type": "code",
   "execution_count": null,
   "id": "f79f5796-3568-479c-8278-958336ffafa8",
   "metadata": {},
   "outputs": [],
   "source": [
    "X_train, X_test, y1_train, y1_test = train_test_split(X, y1, test_size=0.2, random_state=42)\n",
    "X_train, X_test, y2_train, y2_test = train_test_split(X, y2, test_size=0.2, random_state=42)\n",
    "X_train, X_test, y3_train, y3_test = train_test_split(X, y3, test_size=0.2, random_state=42)\n"
   ]
  },
  {
   "cell_type": "code",
   "execution_count": null,
   "id": "16f346e0-b798-4fd9-a428-68dfe669da20",
   "metadata": {},
   "outputs": [],
   "source": [
    "numeric_features = X.select_dtypes(include=['int64', 'float64']).columns\n",
    "categorical_features = X.select_dtypes(include=['object']).columns\n",
    "\n",
    "numeric_transformer = Pipeline(steps=[\n",
    "    ('imputer', SimpleImputer(strategy='median')),\n",
    "    ('scaler', StandardScaler())])\n",
    "\n",
    "categorical_transformer = Pipeline(steps=[\n",
    "    ('imputer', SimpleImputer(strategy='constant', fill_value='missing')),\n",
    "    ('onehot', OneHotEncoder(handle_unknown='ignore'))])\n",
    "\n",
    "preprocessor = ColumnTransformer(\n",
    "    transformers=[\n",
    "        ('num', numeric_transformer, numeric_features),\n",
    "        ('cat', categorical_transformer, categorical_features)])\n",
    "\n"
   ]
  },
  {
   "cell_type": "code",
   "execution_count": null,
   "id": "e37d8635-a552-44f8-8620-076977501c90",
   "metadata": {},
   "outputs": [],
   "source": [
    "model1 = Pipeline(steps=[('preprocessor', preprocessor),\n",
    "                         ('regressor', RandomForestRegressor())])\n",
    "\n",
    "model2 = Pipeline(steps=[('preprocessor', preprocessor),\n",
    "                         ('regressor', DecisionTreeRegressor())])\n",
    "\n",
    "model3 = Pipeline(steps=[('preprocessor', preprocessor),\n",
    "                         ('classifier', RandomForestClassifier())])\n"
   ]
  },
  {
   "cell_type": "code",
   "execution_count": null,
   "id": "1b815e2b-f004-406c-aa8d-4ddeaeaab11d",
   "metadata": {},
   "outputs": [],
   "source": [
    "param_grid1 = {'regressor__n_estimators': [10, 50, 100, 200],\n",
    "               'regressor__max_depth': [None, 5, 10, 15]}\n",
    "\n",
    "param_grid2 = {'regressor__max_depth': [None, 5, 10, 15]}\n",
    "\n",
    "param_grid3 = {'classifier__n_estimators': [10, 50, 100, 200],\n",
    "               'classifier__max_depth': [None, 5, 10, 15]}\n"
   ]
  },
  {
   "cell_type": "code",
   "execution_count": null,
   "id": "9bf192ad-8e55-44db-9e50-27e99d7fe9ab",
   "metadata": {},
   "outputs": [],
   "source": [
    "grid1 = GridSearchCV(model1, param_grid1, cv=5, scoring='neg_mean_squared_error')\n",
    "grid1.fit(X_train, y1_train)\n",
    "\n",
    "grid2 = GridSearchCV(model2, param_grid2, cv=5, scoring='neg_mean_squared_error')\n",
    "grid2.fit(X_train, y2_train)\n",
    "\n",
    "grid3 = GridSearchCV(model3, param_grid3, cv=5, scoring='accuracy')\n",
    "grid3.fit(X_train, y3_train)\n"
   ]
  },
  {
   "cell_type": "code",
   "execution_count": null,
   "id": "129b0902-557f-44fe-9f02-6f3019c30d48",
   "metadata": {},
   "outputs": [],
   "source": [
    "best_model1 = grid1.best_estimator_\n",
    "best_model2 = grid2.best_estimator_\n",
    "best_model3 = grid3.best_estimator_\n",
    "\n",
    "print(\"Best hyperparameters for buy total price:\", grid1.best_params_)\n",
    "print(\"Best hyperparameters for carpet area:\", grid2.best_params_)\n",
    "print(\"Best hyperparameters for property type:\", grid3.best_params_)\n"
   ]
  },
  {
   "cell_type": "code",
   "execution_count": null,
   "id": "cf842874-e0a8-42ec-a3c3-1e54847aac57",
   "metadata": {},
   "outputs": [],
   "source": [
    "y1_pred = best_model1.predict(X_test)\n",
    "y2_pred = best_model2.predict(X_test)\n",
    "y3_pred = best_model3.predict(X_test)\n"
   ]
  },
  {
   "cell_type": "code",
   "execution_count": null,
   "id": "cd2b3b6c-476d-4736-b19f-e824aabd1655",
   "metadata": {},
   "outputs": [],
   "source": [
    "print(\"Mean squared error for buy total price:\", mean_squared_error(y1_test, y1_pred))\n",
    "print(\"Mean squared error for carpet area:\", mean_squared_error(y2_test, y2_pred))\n",
    "print(\"Accuracy for property type:\", accuracy_score(y3_test, y3_pred))\n",
    "print(\"Classification report for property type:\")\n",
    "print(classification_report(y3_test, y3_pred))\n",
    "print(\"Confusion matrix for property type:\")\n",
    "print(confusion_matrix(y3_test, y3_pred))"
   ]
  },
  {
   "cell_type": "code",
   "execution_count": null,
   "id": "568ea320-4bba-4c6b-ba44-a3510c039e93",
   "metadata": {},
   "outputs": [],
   "source": []
  },
  {
   "cell_type": "code",
   "execution_count": null,
   "id": "4d0e9ca0-e042-45b8-af75-7a3bfd3393e0",
   "metadata": {},
   "outputs": [],
   "source": []
  },
  {
   "cell_type": "code",
   "execution_count": null,
   "id": "8c88d551-923c-406b-854c-7ef8b3101f95",
   "metadata": {},
   "outputs": [],
   "source": []
  },
  {
   "cell_type": "code",
   "execution_count": null,
   "id": "18222ac1-81bf-4264-9944-30ad22a56108",
   "metadata": {},
   "outputs": [],
   "source": []
  },
  {
   "cell_type": "code",
   "execution_count": null,
   "id": "4d9ce291-b03f-40c2-82a5-fde35c3ee15d",
   "metadata": {},
   "outputs": [],
   "source": []
  },
  {
   "cell_type": "code",
   "execution_count": null,
   "id": "6a28c86d-1381-4412-ab4c-34121a88ee6b",
   "metadata": {},
   "outputs": [],
   "source": []
  },
  {
   "cell_type": "code",
   "execution_count": null,
   "id": "a64bb4d5-5bef-4f2b-8825-6ce9ea50089c",
   "metadata": {},
   "outputs": [],
   "source": []
  },
  {
   "cell_type": "code",
   "execution_count": null,
   "id": "94a2dc50-1f9b-40a7-bc90-8979ef4ceaf0",
   "metadata": {},
   "outputs": [],
   "source": []
  },
  {
   "cell_type": "code",
   "execution_count": null,
   "id": "ecf7e6ab-cf56-4a2e-9f6b-26e7b44cdcff",
   "metadata": {},
   "outputs": [],
   "source": []
  },
  {
   "cell_type": "code",
   "execution_count": null,
   "id": "83ac39ae-4dad-4ec0-aaca-9b02e058fb74",
   "metadata": {},
   "outputs": [],
   "source": []
  },
  {
   "cell_type": "code",
   "execution_count": null,
   "id": "6be14af1-5f33-49b7-b669-3e3a13da9fc0",
   "metadata": {},
   "outputs": [],
   "source": []
  },
  {
   "cell_type": "code",
   "execution_count": null,
   "id": "8be4dfea-b74c-4b48-8597-3ea272502064",
   "metadata": {},
   "outputs": [],
   "source": []
  }
 ],
 "metadata": {
  "kernelspec": {
   "display_name": "Python 3 (ipykernel)",
   "language": "python",
   "name": "python3"
  },
  "language_info": {
   "codemirror_mode": {
    "name": "ipython",
    "version": 3
   },
   "file_extension": ".py",
   "mimetype": "text/x-python",
   "name": "python",
   "nbconvert_exporter": "python",
   "pygments_lexer": "ipython3",
   "version": "3.11.5"
  }
 },
 "nbformat": 4,
 "nbformat_minor": 5
}
